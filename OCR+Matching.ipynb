{
 "cells": [
  {
   "cell_type": "code",
   "execution_count": 1,
   "id": "5b072a21",
   "metadata": {},
   "outputs": [],
   "source": [
    "import cv2\n",
    "import pandas as pd\n",
    "import numpy as np\n",
    "import pytesseract\n",
    "import re\n",
    "from pyzbar.pyzbar import decode"
   ]
  },
  {
   "cell_type": "code",
   "execution_count": 2,
   "id": "05d5dea5",
   "metadata": {},
   "outputs": [],
   "source": [
    "pytesseract.pytesseract.tesseract_cmd = r'C:\\Program Files\\Tesseract-OCR\\tesseract.exe'"
   ]
  },
  {
   "cell_type": "code",
   "execution_count": 3,
   "id": "0e2416d5",
   "metadata": {},
   "outputs": [],
   "source": [
    "#Creating barcode reader function\n",
    "\n",
    "def barcode_reader(image):\n",
    "     \n",
    "   \n",
    "    img = cv2.imread(image)\n",
    "      \n",
    "    \n",
    "    detectedBarcodes = decode(img)\n",
    "      \n",
    "   \n",
    "    if not detectedBarcodes:\n",
    "        return False\n",
    "    else:\n",
    "        return detectedBarcodes[0].data"
   ]
  },
  {
   "cell_type": "code",
   "execution_count": 4,
   "id": "c89c6e46",
   "metadata": {},
   "outputs": [],
   "source": [
    "#Creating function for extracting list of ingredients from picture using pytesseract \n",
    "\n",
    "def extract_text(img):\n",
    "    image = cv2.imread(img)\n",
    "    gray = cv2.cvtColor(image, cv2.COLOR_BGR2GRAY)\n",
    "    thresh = cv2.threshold(gray, 0, 255, cv2.THRESH_BINARY_INV + cv2.THRESH_OTSU)[1]\n",
    "    \n",
    "    text = pytesseract.image_to_string(thresh, lang='eng')\n",
    "    text = text.replace('\\n', '')\n",
    "    \n",
    "    pattern = r'(?:INGREDIENTS|Ingredients):\\s*([\\w\\s|,]+)'\n",
    "    \n",
    "    matches = re.findall(pattern, text, re.IGNORECASE)\n",
    "    \n",
    "    if matches:\n",
    "        return matches[0].split(',')\n",
    "    else:\n",
    "        return ''"
   ]
  },
  {
   "cell_type": "code",
   "execution_count": 5,
   "id": "b45c34d0",
   "metadata": {},
   "outputs": [],
   "source": [
    "#loading excel files\n",
    "barcode_data = pd.read_excel(\"barcode_data.xlsx\")\n",
    "\n",
    "ingredient_data = pd.read_excel(\"ingredients_after_all_scraping.xlsx\")\n"
   ]
  },
  {
   "cell_type": "code",
   "execution_count": 6,
   "id": "e5d5c1bd",
   "metadata": {},
   "outputs": [],
   "source": [
    "#Creating list from substitute_names columns so we can iterate thru seperate ingredients\n",
    "ingredient_data['substitute_names'] = ingredient_data['substitute_names'].apply(lambda x: x.split(','))"
   ]
  },
  {
   "cell_type": "code",
   "execution_count": 7,
   "id": "44dd40d0",
   "metadata": {},
   "outputs": [],
   "source": [
    "#List of images\n",
    "\n",
    "image_path = \"IMG_6949.jpg\"\n",
    "#image_path = \"IMG_6957.jpg\"\n",
    "#image_path = \"IMG_6955.jpg\"\n",
    "#image_path = \"IMG_6964.jpg\"\n",
    "#image_path = \"Mouth_Wash.jpg\"\n",
    "\n"
   ]
  },
  {
   "cell_type": "code",
   "execution_count": 8,
   "id": "9093033f",
   "metadata": {},
   "outputs": [],
   "source": [
    "#Extract barcode from image\n",
    "barcode = barcode_reader(image_path)"
   ]
  },
  {
   "cell_type": "code",
   "execution_count": 9,
   "id": "62649b03",
   "metadata": {},
   "outputs": [
    {
     "name": "stdout",
     "output_type": "stream",
     "text": [
      "No entry in Barcode file, we will extract the ingredients from the picture\n"
     ]
    }
   ],
   "source": [
    "#If there is no barcode or we dont have it in the excel file extract it form the image using OCR\n",
    "if barcode == False:\n",
    "    ingredients = extract_text(image_path)\n",
    "    print('No Barcode ')\n",
    "else:\n",
    "    if int(barcode) not in list(barcode_data[\"Barcode\"].values):\n",
    "        ingredients = extract_text(image_path)\n",
    "        print('No entry in Barcode file, we will extract the ingredients from the picture')\n",
    "    else:\n",
    "        ingredients = barcode_data[barcode_data[\"Barcode\"] == int(barcode)][\"Ingredient List\"].values[0].split(', ')\n",
    "        print('Barcode valid')"
   ]
  },
  {
   "cell_type": "code",
   "execution_count": 10,
   "id": "e1299e8a",
   "metadata": {},
   "outputs": [
    {
     "name": "stdout",
     "output_type": "stream",
     "text": [
      "Sodium Palmate\n",
      " Aqua\n",
      "Glycerin\n",
      " Sodium Palm Kernelate\n",
      " Parfum\n",
      "Palm Kernel Acid\n",
      " Rubus Idaeus Fruit Extract\n",
      "Vaccinium Macrocarpon Fruit Extract\n",
      " PrunusAmygdalus Dulcis Seed Extract\n",
      " Zea MaysStarch\n",
      " Xanthan Gum\n",
      " Citric Acid\n",
      " SodiumBenzoate\n",
      " Potassium Sorbate\n",
      " Tetrasodium RartonGlutamate Diacetate\n",
      " Sodium Citrate\n",
      " SodiumChloride\n",
      " Benzyl Salicylate\n",
      " Geraniol\n",
      " Benzy|Alcohol\n",
      " Hexyl Cinnamal\n",
      " Linalool\n",
      " Cl 77891\n"
     ]
    }
   ],
   "source": [
    "#list of ingredients\n",
    "for ingredient in ingredients:\n",
    "    print(ingredient)"
   ]
  },
  {
   "cell_type": "code",
   "execution_count": 11,
   "id": "d3a46602",
   "metadata": {},
   "outputs": [
    {
     "name": "stdout",
     "output_type": "stream",
     "text": [
      "Sodium Palmate:\n",
      "{'Ingredient Name': 'Sodium Palmate', 'Matched Entry': 'Sodium Palmate', 'Score': 100, 'Carcinogens': False, 'EndocrineDisruptors': False, 'Allergen': False, 'SkinIrritant': False, 'Id': 270.0}\n",
      " Aqua:\n",
      "{'Ingredient Name': 'Aqua', 'Matched Entry': 'Aqua', 'Score': 100, 'Carcinogens': False, 'EndocrineDisruptors': False, 'Allergen': False, 'SkinIrritant': False, 'Id': 2247.0}\n",
      "Glycerin:\n",
      "{'Ingredient Name': 'Glycerin', 'Matched Entry': 'Glycerin', 'Score': 100, 'Carcinogens': False, 'EndocrineDisruptors': False, 'Allergen': False, 'SkinIrritant': False, 'Id': 1558.0}\n",
      " Sodium Palm Kernelate:\n",
      "{'Ingredient Name': 'Sodium Palm Kernelate', 'Matched Entry': 'Sodium Palm Kernelate', 'Score': 100, 'Carcinogens': False, 'EndocrineDisruptors': False, 'Allergen': False, 'SkinIrritant': False, 'Id': 272.0}\n",
      " Parfum:\n",
      "{'Ingredient Name': 'Parfum', 'Matched Entry': 'Parfum', 'Score': 100, 'Carcinogens': False, 'EndocrineDisruptors': False, 'Allergen': False, 'SkinIrritant': False, 'Id': 12483.0}\n",
      "Palm Kernel Acid:\n",
      "{'Ingredient Name': 'Palm Kernel Acid', 'Matched Entry': 'Palm Kernel Acid', 'Score': 100, 'Carcinogens': False, 'EndocrineDisruptors': False, 'Allergen': False, 'SkinIrritant': False, 'Id': 5538.0}\n",
      " Rubus Idaeus Fruit Extract:\n",
      "{'Ingredient Name': 'Rubus Idaeus Fruit Extract', 'Matched Entry': 'Rubus Idaeus Fruit Extract', 'Score': 100, 'Carcinogens': False, 'EndocrineDisruptors': False, 'Allergen': False, 'SkinIrritant': False, 'Id': 3346.0}\n",
      "Vaccinium Macrocarpon Fruit Extract:\n",
      "{'Ingredient Name': 'Vaccinium Macrocarpon Fruit Extract', 'Matched Entry': 'Vaccinium Macrocarpon Fruit Extract', 'Score': 100, 'Carcinogens': False, 'EndocrineDisruptors': False, 'Allergen': False, 'SkinIrritant': False, 'Id': 3011.0}\n",
      " PrunusAmygdalus Dulcis Seed Extract:\n",
      "{'Ingredient Name': 'Prunus Amygdalus Dulcis Seed Extract', 'Matched Entry': 'Prunus Amygdalus Dulcis Seed Extract', 'Score': 99, 'Carcinogens': False, 'EndocrineDisruptors': False, 'Allergen': False, 'SkinIrritant': False, 'Id': 565.0}\n",
      " Zea MaysStarch:\n",
      "{'Ingredient Name': 'Zea Mays Starch', 'Matched Entry': 'Zea Mays Starch', 'Score': 97, 'Carcinogens': False, 'EndocrineDisruptors': False, 'Allergen': False, 'SkinIrritant': False, 'Id': 12.0}\n",
      " Xanthan Gum:\n",
      "{'Ingredient Name': 'Xanthan Gum', 'Matched Entry': 'Xanthan Gum', 'Score': 100, 'Carcinogens': False, 'EndocrineDisruptors': False, 'Allergen': False, 'SkinIrritant': False, 'Id': 28.0}\n",
      " Citric Acid:\n",
      "{'Ingredient Name': 'Citric Acid', 'Matched Entry': 'Citric Acid', 'Score': 100, 'Carcinogens': False, 'EndocrineDisruptors': False, 'Allergen': False, 'SkinIrritant': False, 'Id': 1927.0}\n",
      " SodiumBenzoate:\n",
      "{'Ingredient Name': 'Sodiumbenzoate', 'Matched Entry': 'Sodiumbenzoate', 'Score': 100, 'Carcinogens': False, 'EndocrineDisruptors': False, 'Allergen': False, 'SkinIrritant': False, 'Id': 3930.0}\n",
      " Potassium Sorbate:\n",
      "{'Ingredient Name': 'Potassium Sorbate', 'Matched Entry': 'Potassium Sorbate', 'Score': 100, 'Carcinogens': False, 'EndocrineDisruptors': False, 'Allergen': False, 'SkinIrritant': False, 'Id': 12527.0}\n",
      " Tetrasodium RartonGlutamate Diacetate:\n",
      "{'Ingredient Name': 'Tetrasodium Glutamate Diacetate', 'Matched Entry': 'Tetrasodium Glutamate Diacetate', 'Score': 91, 'Carcinogens': False, 'EndocrineDisruptors': False, 'Allergen': False, 'SkinIrritant': False, 'Id': 156.0}\n",
      " Sodium Citrate:\n",
      "{'Ingredient Name': 'Sodium Citrate', 'Matched Entry': 'Sodium Citrate', 'Score': 100, 'Carcinogens': False, 'EndocrineDisruptors': False, 'Allergen': False, 'SkinIrritant': False, 'Id': 301.0}\n",
      " SodiumChloride:\n",
      "{'Ingredient Name': 'Sodiumchloride', 'Matched Entry': 'Sodiumchloride', 'Score': 100, 'Carcinogens': False, 'EndocrineDisruptors': False, 'Allergen': False, 'SkinIrritant': False, 'Id': 5191.0}\n",
      " Benzyl Salicylate:\n",
      "{'Ingredient Name': 'Benzyl Salicylate', 'Matched Entry': 'Benzyl Salicylate', 'Score': 100, 'Carcinogens': False, 'EndocrineDisruptors': False, 'Allergen': True, 'SkinIrritant': False, 'Id': 12147.0}\n",
      " Geraniol:\n",
      "{'Ingredient Name': 'Geraniol', 'Matched Entry': 'Geraniol', 'Score': 100, 'Carcinogens': False, 'EndocrineDisruptors': False, 'Allergen': True, 'SkinIrritant': False, 'Id': 12400.0}\n",
      " Benzy|Alcohol:\n",
      "{'Ingredient Name': 'Benzyl Alcohol', 'Matched Entry': 'Benzyl Alcohol', 'Score': 96, 'Carcinogens': False, 'EndocrineDisruptors': False, 'Allergen': False, 'SkinIrritant': True, 'Id': 12144.0}\n",
      " Hexyl Cinnamal:\n",
      "{'Ingredient Name': 'Hexyl Cinnamal', 'Matched Entry': 'Hexyl Cinnamal', 'Score': 100, 'Carcinogens': False, 'EndocrineDisruptors': False, 'Allergen': True, 'SkinIrritant': False, 'Id': 3078.0}\n",
      " Linalool:\n",
      "{'Ingredient Name': 'Linalool', 'Matched Entry': 'Linalool', 'Score': 100, 'Carcinogens': False, 'EndocrineDisruptors': False, 'Allergen': True, 'SkinIrritant': True, 'Id': 12457.0}\n",
      " Cl 77891:\n",
      "{'Ingredient Name': 'Ci 77891', 'Matched Entry': 'Ci 77891', 'Score': 88, 'Carcinogens': False, 'EndocrineDisruptors': False, 'Allergen': False, 'SkinIrritant': False, 'Id': 6711.0}\n"
     ]
    }
   ],
   "source": [
    "\n",
    "#image_path = \"zip/IMG_6949.jpg\"\n",
    "\n",
    "from fuzzywuzzy import process\n",
    "import pandas as pd\n",
    "\n",
    "\n",
    "#Create function for finding the best match between our database and the extracted list of ingredients  \n",
    "def get_best_match_and_extract(ingredient_name, name_choices, substitute_choices, dataframe):\n",
    "    best_match = None\n",
    "    score = 0\n",
    "    matched_row = None\n",
    "\n",
    "    for choice_list in [name_choices, substitute_choices]:\n",
    "        for choice in choice_list:\n",
    "            result = process.extractOne(ingredient_name, [choice])\n",
    "            if result[1] > score:\n",
    "                best_match = result[0]\n",
    "                score = result[1]\n",
    "                matched_row = dataframe[dataframe.isin([choice]).any(axis=1)]\n",
    "\n",
    "    return best_match, score, matched_row\n",
    "\n",
    "# Map each ingredient to its best-matched universal name from the DataFrame columns\n",
    "ingredient_mappings = {}\n",
    "for ingredient in ingredients:\n",
    "    best_match, score, matched_row = get_best_match_and_extract(\n",
    "        ingredient, \n",
    "        ingredient_data['Name'],\n",
    "        ingredient_data['substitute_names'],\n",
    "        ingredient_data\n",
    "    )\n",
    "    \n",
    "    if not matched_row.empty:\n",
    "        ingredient_entry = matched_row.iloc[0]\n",
    "        ingredient_name = ingredient_entry['Name']\n",
    "        matched_row_info = {\n",
    "            'Ingredient Name': ingredient_name,\n",
    "            'Matched Entry': best_match,\n",
    "            'Score': score,\n",
    "            'Carcinogens': bool(ingredient_entry['Carcinogens']),\n",
    "            'EndocrineDisruptors': bool(ingredient_entry['EndocrineDisruptors']),\n",
    "            'Allergen': bool(ingredient_entry['Allergen']),\n",
    "            'SkinIrritant': bool(ingredient_entry['SkinIrritant']),\n",
    "            'Id': ingredient_entry['Id']  \n",
    "        }\n",
    "        if score < 85:\n",
    "            matched_row_info['MatchQuality'] = 'Not a good match'\n",
    "        ingredient_mappings[ingredient] = matched_row_info\n",
    "    else:\n",
    "        ingredient_mappings[ingredient] = \"No match found\"\n",
    "\n",
    "\n",
    "for ingredient, result in ingredient_mappings.items():\n",
    "    print(f\"{ingredient}:\")\n",
    "    if result != \"No match found\":\n",
    "        if 'MatchQuality' in result:\n",
    "            print(f\"Score: {result['Score']}. {result['MatchQuality']}\")\n",
    "        else:\n",
    "            print(result)\n",
    "    else:\n",
    "        print(\"No match found\")\n"
   ]
  },
  {
   "cell_type": "code",
   "execution_count": null,
   "id": "e5459776",
   "metadata": {},
   "outputs": [],
   "source": []
  }
 ],
 "metadata": {
  "kernelspec": {
   "display_name": "Python 3 (ipykernel)",
   "language": "python",
   "name": "python3"
  },
  "language_info": {
   "codemirror_mode": {
    "name": "ipython",
    "version": 3
   },
   "file_extension": ".py",
   "mimetype": "text/x-python",
   "name": "python",
   "nbconvert_exporter": "python",
   "pygments_lexer": "ipython3",
   "version": "3.9.13"
  }
 },
 "nbformat": 4,
 "nbformat_minor": 5
}
