{
 "cells": [
  {
   "cell_type": "markdown",
   "id": "e2561be8-95f1-4045-bd65-0a382e705b90",
   "metadata": {},
   "source": [
    "### FINAL PROJECT MACHINE LEARNING"
   ]
  },
  {
   "cell_type": "code",
   "execution_count": 1,
   "id": "51e31c2c-a804-42cb-9c98-de6c290fc713",
   "metadata": {},
   "outputs": [],
   "source": [
    "import pandas as pd\n",
    "import numpy as np\n",
    "import re"
   ]
  },
  {
   "cell_type": "markdown",
   "id": "aa65e631-02a5-488b-8249-4e2a2dda618e",
   "metadata": {},
   "source": [
    "## 1st part: Preprocessing data"
   ]
  },
  {
   "cell_type": "markdown",
   "id": "19014699-64dd-4c4d-b1b1-d34415cb0184",
   "metadata": {},
   "source": [
    "#### 1. CLEANING COLUMN 'NAME'"
   ]
  },
  {
   "cell_type": "code",
   "execution_count": 2,
   "id": "e93f902c-8f71-44e1-bbf7-0a47dca6a940",
   "metadata": {},
   "outputs": [],
   "source": [
    "\n",
    "#load primary file from clients \n",
    "excel_file_path = 'ingredient_orginal.xlsx'  \n",
    "df = pd.read_excel(excel_file_path)\n",
    "\n",
    "# Create a new DataFrame\n",
    "data = pd.DataFrame()\n",
    "\n",
    "# Specify the number of rows to split (in this case, the first 3 rows)\n",
    "num_rows_to_split = 3\n",
    "\n",
    "# Iterate through each row in the original DataFrame\n",
    "for index, row in df.iterrows():\n",
    "    # Split the 'Name' column only for the first 3 rows\n",
    "    if index < num_rows_to_split:\n",
    "        names = str(row['Name']).split('/')  \n",
    "        num_names = len(names)\n",
    "\n",
    "        # Duplicate the row for each name\n",
    "        duplicated_row = pd.DataFrame([row] * num_names)\n",
    "\n",
    "        # Update the \"Names\" column with individual names\n",
    "        duplicated_row['Name'] = names\n",
    "\n",
    "    \n",
    "        data = pd.concat([data, duplicated_row], ignore_index=True)\n",
    "    else:\n",
    "        \n",
    "        data = pd.concat([data, pd.DataFrame([row])], ignore_index=True)\n",
    "\n"
   ]
  },
  {
   "cell_type": "markdown",
   "id": "1798ce54-ed56-4c63-a0fc-7e04b76b306b",
   "metadata": {},
   "source": [
    "#### 2. Cleaning column CASCODE"
   ]
  },
  {
   "cell_type": "code",
   "execution_count": 3,
   "id": "24a9cf85-4800-40a2-9f6b-dc7f41e694fc",
   "metadata": {},
   "outputs": [
    {
     "data": {
      "text/plain": [
       "-                                       367\n",
       "25133-97-5 / 25035-69-2 / 25212-88-8     18\n",
       "84696-07-01                               8\n",
       "9016-45-9                                 6\n",
       "90028-76-5                                6\n",
       "                                       ... \n",
       "141714-54-7                               1\n",
       "68555-87-3                                1\n",
       "92502-55-1                                1\n",
       "103458-51-1                               1\n",
       "87435-35-6                                1\n",
       "Name: CASCODE, Length: 5193, dtype: int64"
      ]
     },
     "execution_count": 3,
     "metadata": {},
     "output_type": "execute_result"
    }
   ],
   "source": [
    "data['CASCODE'].value_counts()"
   ]
  },
  {
   "cell_type": "code",
   "execution_count": null,
   "id": "6d00d93b-9144-429c-966b-656603c6d8ce",
   "metadata": {},
   "outputs": [],
   "source": [
    "data['CASCODE'] = data['CASCODE'].astype(str)\n",
    "\n",
    "#Extract only CASCODE without other irelevant data\n",
    "data['CASCODE'] = data['CASCODE'].str.extract(r'^([\\d\\-]+)')"
   ]
  },
  {
   "cell_type": "code",
   "execution_count": null,
   "id": "ab34d04c",
   "metadata": {},
   "outputs": [],
   "source": [
    "#Empty cels with '-'\n",
    "data['CASCODE'] = data['CASCODE'].replace({'-': np.nan})"
   ]
  },
  {
   "cell_type": "code",
   "execution_count": null,
   "id": "e7d67b29-50de-48b9-99f8-f2c6985f6f9e",
   "metadata": {},
   "outputs": [],
   "source": [
    "data['CASCODE'].value_counts()"
   ]
  },
  {
   "cell_type": "code",
   "execution_count": null,
   "id": "fdd661c0-d21e-4d75-9cfc-8ae26b4f4043",
   "metadata": {},
   "outputs": [],
   "source": [
    "data.info()"
   ]
  },
  {
   "cell_type": "code",
   "execution_count": null,
   "id": "21469a7f-0fc4-45ad-8d56-ceda1743af61",
   "metadata": {},
   "outputs": [],
   "source": [
    "data['CASCODE'].value_counts()"
   ]
  },
  {
   "cell_type": "code",
   "execution_count": null,
   "id": "718b5229-7431-49b0-99e4-3c1dce9c8405",
   "metadata": {},
   "outputs": [],
   "source": [
    "# Save in Excel file after preprocesing\n",
    "data.to_excel('C:\\\\Users\\\\Administrator\\\\Desktop\\\\FINALEN PROEKT\\\\preprocesed_ingredients.xlsx', index=False)\n"
   ]
  },
  {
   "cell_type": "markdown",
   "id": "d9fae318-80c9-4d85-8749-269d388fe989",
   "metadata": {},
   "source": [
    "## 2nd part: Web scraping"
   ]
  },
  {
   "cell_type": "code",
   "execution_count": null,
   "id": "d46db56f-ed28-40b3-9b31-1723b41a6977",
   "metadata": {},
   "outputs": [],
   "source": [
    "#load the dataset that we extraced after preprocesing\n",
    "excel = pd.read_excel('preprocesed_ingredients.xlsx')\n",
    "data = pd.DataFrame(excel)\n",
    "\n",
    "data['substitute_names'] = ''"
   ]
  },
  {
   "cell_type": "code",
   "execution_count": null,
   "id": "e091ac34-b618-477b-8735-b2e060933b38",
   "metadata": {},
   "outputs": [],
   "source": [
    "\n",
    "from selenium import webdriver\n",
    "import pandas as pd\n",
    "from selenium.webdriver.common.by import By\n",
    "from selenium.webdriver.support.ui import WebDriverWait\n",
    "from selenium.webdriver.support import expected_conditions as EC\n",
    "\n",
    "# Initialize Chrome WebDriver\n",
    "driver = webdriver.Chrome()\n",
    "\n",
    "    #Iterate thru names  \n",
    "for index, row in data.iterrows():\n",
    "    substance_name = row['Name']\n",
    "\n",
    "    # Check if CAS code is already present, if so, continue to the next row\n",
    "    if pd.notnull(row['CASCODE']):\n",
    "        continue\n",
    "\n",
    "    # Construct the search URL for the substance\n",
    "    search_url = f\"https://commonchemistry.cas.org/results?q={substance_name.replace(' ', '%20')}\"\n",
    "\n",
    "    # Open the URL in the Chrome WebDriver\n",
    "    driver.get(search_url)\n",
    "\n",
    "    # Wait for the CAS number element to be present\n",
    "    wait = WebDriverWait(driver, 6)\n",
    "    cas_element = None\n",
    "\n",
    "    try:\n",
    "        cas_element = wait.until(EC.visibility_of_element_located((By.XPATH, '//div[@class=\"result-rn\"]')))\n",
    "        cas_number = cas_element.text.strip()\n",
    "        data.at[index, 'CASCODE'] = cas_number\n",
    "    except:\n",
    "        data.at[index, 'CASCODE'] = 'no cascode found'\n",
    "\n",
    "# Quit the WebDriver \n",
    "driver.quit()"
   ]
  },
  {
   "cell_type": "code",
   "execution_count": null,
   "id": "1ea10ce8",
   "metadata": {},
   "outputs": [],
   "source": [
    "#Save the new excel file after scraping for CAS numbers on Common chemistry website\n",
    "data.to_excel('C:\\\\Users\\\\Administrator\\\\Desktop\\\\FINALEN PROEKT\\\\ingredients_with_name_scraping.xlsx', index=False)"
   ]
  },
  {
   "cell_type": "code",
   "execution_count": null,
   "id": "0c78cb3a",
   "metadata": {},
   "outputs": [],
   "source": [
    "#load the dataset that we extraced after scraping by name for CAS numbers\n",
    "excel = pd.read_excel('ingredients_with_name_scraping.xlsx')\n",
    "data = pd.DataFrame(excel)"
   ]
  },
  {
   "cell_type": "code",
   "execution_count": null,
   "id": "3aaf34d1-7249-444a-9bda-df6b0cb390df",
   "metadata": {},
   "outputs": [],
   "source": [
    "from selenium import webdriver\n",
    "from selenium.webdriver.common.by import By\n",
    "from selenium.webdriver.support.ui import WebDriverWait\n",
    "from selenium.webdriver.support import expected_conditions as EC\n",
    "from selenium.common.exceptions import TimeoutException\n",
    "import pandas as pd\n",
    "\n",
    "\n",
    "driver = webdriver.Chrome()\n",
    "wait = WebDriverWait(driver, 3)\n",
    "\n",
    "for cas_code in data['CASCODE']:\n",
    "    try:\n",
    "        driver.get(f\"https://commonchemistry.cas.org/detail?cas_rn={cas_code}\")\n",
    "\n",
    "        try:\n",
    "            element = wait.until(EC.element_to_be_clickable((By.XPATH, '//a[@_ngcontent-serverapp-c40=\"\"]')))\n",
    "            element.click()\n",
    "\n",
    "            dynamic_content = wait.until(EC.presence_of_element_located((By.CSS_SELECTOR, 'div.detail-synonym-box')))\n",
    "            extracted_info = dynamic_content.text\n",
    "\n",
    "            # Append the extracted information to the 'substitute_names' column for the corresponding CAS code\n",
    "            data.loc[data['CASCODE'] == cas_code, 'substitute_names'] = extracted_info\n",
    "\n",
    "        except TimeoutException:\n",
    "            try:\n",
    "                dynamic_content = wait.until(EC.presence_of_element_located((By.CSS_SELECTOR, 'div.detail-synonym-box')))\n",
    "                extracted_info = dynamic_content.text\n",
    "\n",
    "                # Append the extracted information to the 'substitute_names' column for the corresponding CAS code\n",
    "                data.loc[data['CASCODE'] == cas_code, 'substitute_names'] = extracted_info\n",
    "\n",
    "            except TimeoutException:\n",
    "                # If neither element nor data found, mark as \"Non-existent CAS code\"\n",
    "                data.loc[data['CASCODE'] == cas_code, 'substitute_names'] = \"Non-existent CAS code\"\n",
    "\n",
    "    except TimeoutException:\n",
    "        # If URL not accessible, mark as \"URL not accessible\"\n",
    "        data.loc[data['CASCODE'] == cas_code, 'substitute_names'] = \"URL not accessible\"\n",
    "\n",
    "driver.quit()"
   ]
  },
  {
   "cell_type": "code",
   "execution_count": null,
   "id": "88ed5b7c",
   "metadata": {},
   "outputs": [],
   "source": [
    "#Save the new excel file after scraping for CAS numbers and substitute names on Common chemistry website\n",
    "data.to_excel('C:\\\\Users\\\\Administrator\\\\Desktop\\\\FINALEN PROEKT\\\\ingredients_after_all_scraping.xlsx', index=False)"
   ]
  },
  {
   "cell_type": "code",
   "execution_count": null,
   "id": "866ae7e8-5c60-404a-979a-ed8fe3b844bf",
   "metadata": {},
   "outputs": [],
   "source": []
  }
 ],
 "metadata": {
  "kernelspec": {
   "display_name": "Python 3 (ipykernel)",
   "language": "python",
   "name": "python3"
  },
  "language_info": {
   "codemirror_mode": {
    "name": "ipython",
    "version": 3
   },
   "file_extension": ".py",
   "mimetype": "text/x-python",
   "name": "python",
   "nbconvert_exporter": "python",
   "pygments_lexer": "ipython3",
   "version": "3.9.13"
  }
 },
 "nbformat": 4,
 "nbformat_minor": 5
}
